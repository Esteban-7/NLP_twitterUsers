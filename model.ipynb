{
 "cells": [
  {
   "cell_type": "code",
   "execution_count": 1,
   "id": "cd490380-69cb-4c63-a554-6c9ae9d93502",
   "metadata": {},
   "outputs": [],
   "source": [
    "import data.credentials as credentials\n",
    "from misc_twitter import print_score, clean_tweets\n",
    "\n",
    "import pandas as pd\n",
    "import requests\n",
    "import seaborn as sns\n",
    "import matplotlib.pyplot as plt\n",
    "import re\n",
    "import json\n",
    "\n",
    "from sklearn.utils import shuffle, resample\n",
    "import numpy as np\n",
    "from sklearn.feature_extraction.text import CountVectorizer\n",
    "from sklearn.model_selection import train_test_split\n",
    "import joblib\n",
    "from joblib import dump, load\n",
    "from scipy import stats"
   ]
  },
  {
   "cell_type": "markdown",
   "id": "37032e5e-3fa5-44fb-b3b7-d793bc610616",
   "metadata": {},
   "source": [
    "# Sentiment Analysis on Tweets. \n",
    "\n",
    "### Maria Vogli\n",
    "### Sarah Santos\n",
    "### Esteban Ortega Lopez"
   ]
  },
  {
   "cell_type": "markdown",
   "id": "16babef1-5ace-4aee-bcf9-2987970578a4",
   "metadata": {},
   "source": [
    "Here we use the database on hatespeech on twitter found in https://github.com/SDS-AAU/SDS-master/raw/master/M2/data/twitter_hate.zip to develop a machine learning model to classify tweets into the different categories:\n",
    "\n",
    "- 0 : Hate\n",
    "- 1 : Offensive\n",
    "- 2 : Normal\n",
    "\n",
    "With this model, an analysis will be performed on the user rather than on every single tweet. "
   ]
  },
  {
   "cell_type": "markdown",
   "id": "5d407295-e9e8-4b07-a79d-ce409abf80a8",
   "metadata": {},
   "source": [
    "# Explore the data\n",
    "\n",
    "First we go trhough the data to understand it better. "
   ]
  },
  {
   "cell_type": "code",
   "execution_count": 2,
   "id": "2416c8b1-f238-4ef7-a9c2-77f1e1e7fe54",
   "metadata": {},
   "outputs": [],
   "source": [
    "data = pd.read_csv(\"data/twitter_hate_speech.csv\",index_col=0)"
   ]
  },
  {
   "cell_type": "code",
   "execution_count": 3,
   "id": "10778c35-3ef9-415e-938d-085659ea8086",
   "metadata": {},
   "outputs": [],
   "source": [
    "data = data.rename(columns={\"class\":\"label\"})"
   ]
  },
  {
   "cell_type": "code",
   "execution_count": 4,
   "id": "276fa194-f2fe-4f8e-8700-4016156379c2",
   "metadata": {},
   "outputs": [
    {
     "data": {
      "text/html": [
       "<div>\n",
       "<style scoped>\n",
       "    .dataframe tbody tr th:only-of-type {\n",
       "        vertical-align: middle;\n",
       "    }\n",
       "\n",
       "    .dataframe tbody tr th {\n",
       "        vertical-align: top;\n",
       "    }\n",
       "\n",
       "    .dataframe thead th {\n",
       "        text-align: right;\n",
       "    }\n",
       "</style>\n",
       "<table border=\"1\" class=\"dataframe\">\n",
       "  <thead>\n",
       "    <tr style=\"text-align: right;\">\n",
       "      <th></th>\n",
       "      <th>label</th>\n",
       "      <th>tweet</th>\n",
       "    </tr>\n",
       "  </thead>\n",
       "  <tbody>\n",
       "    <tr>\n",
       "      <th>0</th>\n",
       "      <td>2</td>\n",
       "      <td>!!! RT @mayasolovely: As a woman you shouldn't...</td>\n",
       "    </tr>\n",
       "    <tr>\n",
       "      <th>1</th>\n",
       "      <td>1</td>\n",
       "      <td>!!!!! RT @mleew17: boy dats cold...tyga dwn ba...</td>\n",
       "    </tr>\n",
       "    <tr>\n",
       "      <th>2</th>\n",
       "      <td>1</td>\n",
       "      <td>!!!!!!! RT @UrKindOfBrand Dawg!!!! RT @80sbaby...</td>\n",
       "    </tr>\n",
       "    <tr>\n",
       "      <th>3</th>\n",
       "      <td>1</td>\n",
       "      <td>!!!!!!!!! RT @C_G_Anderson: @viva_based she lo...</td>\n",
       "    </tr>\n",
       "    <tr>\n",
       "      <th>4</th>\n",
       "      <td>1</td>\n",
       "      <td>!!!!!!!!!!!!! RT @ShenikaRoberts: The shit you...</td>\n",
       "    </tr>\n",
       "    <tr>\n",
       "      <th>...</th>\n",
       "      <td>...</td>\n",
       "      <td>...</td>\n",
       "    </tr>\n",
       "    <tr>\n",
       "      <th>24778</th>\n",
       "      <td>1</td>\n",
       "      <td>you's a muthaf***in lie &amp;#8220;@LifeAsKing: @2...</td>\n",
       "    </tr>\n",
       "    <tr>\n",
       "      <th>24779</th>\n",
       "      <td>2</td>\n",
       "      <td>you've gone and broke the wrong heart baby, an...</td>\n",
       "    </tr>\n",
       "    <tr>\n",
       "      <th>24780</th>\n",
       "      <td>1</td>\n",
       "      <td>young buck wanna eat!!.. dat nigguh like I ain...</td>\n",
       "    </tr>\n",
       "    <tr>\n",
       "      <th>24781</th>\n",
       "      <td>1</td>\n",
       "      <td>youu got wild bitches tellin you lies</td>\n",
       "    </tr>\n",
       "    <tr>\n",
       "      <th>24782</th>\n",
       "      <td>2</td>\n",
       "      <td>~~Ruffled | Ntac Eileen Dahlia - Beautiful col...</td>\n",
       "    </tr>\n",
       "  </tbody>\n",
       "</table>\n",
       "<p>24783 rows × 2 columns</p>\n",
       "</div>"
      ],
      "text/plain": [
       "       label                                              tweet\n",
       "0          2  !!! RT @mayasolovely: As a woman you shouldn't...\n",
       "1          1  !!!!! RT @mleew17: boy dats cold...tyga dwn ba...\n",
       "2          1  !!!!!!! RT @UrKindOfBrand Dawg!!!! RT @80sbaby...\n",
       "3          1  !!!!!!!!! RT @C_G_Anderson: @viva_based she lo...\n",
       "4          1  !!!!!!!!!!!!! RT @ShenikaRoberts: The shit you...\n",
       "...      ...                                                ...\n",
       "24778      1  you's a muthaf***in lie &#8220;@LifeAsKing: @2...\n",
       "24779      2  you've gone and broke the wrong heart baby, an...\n",
       "24780      1  young buck wanna eat!!.. dat nigguh like I ain...\n",
       "24781      1              youu got wild bitches tellin you lies\n",
       "24782      2  ~~Ruffled | Ntac Eileen Dahlia - Beautiful col...\n",
       "\n",
       "[24783 rows x 2 columns]"
      ]
     },
     "execution_count": 4,
     "metadata": {},
     "output_type": "execute_result"
    }
   ],
   "source": [
    "data"
   ]
  },
  {
   "cell_type": "code",
   "execution_count": 5,
   "id": "1c88189e-bb47-421d-9d1c-651f91cec67e",
   "metadata": {},
   "outputs": [
    {
     "name": "stdout",
     "output_type": "stream",
     "text": [
      "Count of values:\n",
      " 1    19190\n",
      "2     4163\n",
      "0     1430\n",
      "Name: label, dtype: int64\n"
     ]
    },
    {
     "data": {
      "text/plain": [
       "Text(0.5, 1.02, 'Distribution of classes of tweets')"
      ]
     },
     "execution_count": 5,
     "metadata": {},
     "output_type": "execute_result"
    },
    {
     "data": {
      "image/png": "[encoded data removed]",
      "text/plain": [
       "<Figure size 432x288 with 1 Axes>"
      ]
     },
     "metadata": {},
     "output_type": "display_data"
    }
   ],
   "source": [
    "print(\"Count of values:\\n\",data.label.value_counts()) #With this line we print the count of the values available in the label field\n",
    "\n",
    "sns.set(font_scale=1.4) #setting the plot to be used by seaborn plotting\n",
    "data['label'].value_counts().plot(kind='bar') #the plot is created with the plot method.\n",
    "plt.xlabel(\"label\", labelpad=14) #labels and tittle are set.\n",
    "plt.ylabel(\"Count of Tweets\", labelpad=14)\n",
    "plt.title(\"Distribution of classes of tweets\", y=1.02)"
   ]
  },
  {
   "cell_type": "markdown",
   "id": "d6f5156f-08ff-4b0d-80bc-88f021bebf30",
   "metadata": {},
   "source": [
    "We can see that the dataset is unbalanced, which is a problem for our model. Indeed, since the \"hate\" speech is under represented in the sample, the model might not get a high recall metric for such label. For this, we will implement simple balancing techniques later on. "
   ]
  },
  {
   "cell_type": "markdown",
   "id": "a781664c-1400-4b6f-872e-3f7a8fc288c4",
   "metadata": {},
   "source": [
    "# Prepare the data for model\n",
    "\n",
    "Now, we prepared the database for the mode. This includes cleaning the text and balancing the data. "
   ]
  },
  {
   "cell_type": "code",
   "execution_count": 6,
   "id": "f4f1a4b8-a8de-421d-bb49-eb018379eaa1",
   "metadata": {},
   "outputs": [
    {
     "data": {
      "text/html": [
       "<div>\n",
       "<style scoped>\n",
       "    .dataframe tbody tr th:only-of-type {\n",
       "        vertical-align: middle;\n",
       "    }\n",
       "\n",
       "    .dataframe tbody tr th {\n",
       "        vertical-align: top;\n",
       "    }\n",
       "\n",
       "    .dataframe thead th {\n",
       "        text-align: right;\n",
       "    }\n",
       "</style>\n",
       "<table border=\"1\" class=\"dataframe\">\n",
       "  <thead>\n",
       "    <tr style=\"text-align: right;\">\n",
       "      <th></th>\n",
       "      <th>label</th>\n",
       "      <th>tweet</th>\n",
       "      <th>processed_tweet</th>\n",
       "    </tr>\n",
       "  </thead>\n",
       "  <tbody>\n",
       "    <tr>\n",
       "      <th>0</th>\n",
       "      <td>2</td>\n",
       "      <td>!!! RT @mayasolovely: As a woman you shouldn't...</td>\n",
       "      <td>As a woman you shouldnt complain about clean...</td>\n",
       "    </tr>\n",
       "    <tr>\n",
       "      <th>1</th>\n",
       "      <td>1</td>\n",
       "      <td>!!!!! RT @mleew17: boy dats cold...tyga dwn ba...</td>\n",
       "      <td>boy dats coldtyga dwn bad for cuffin dat hoe...</td>\n",
       "    </tr>\n",
       "    <tr>\n",
       "      <th>2</th>\n",
       "      <td>1</td>\n",
       "      <td>!!!!!!! RT @UrKindOfBrand Dawg!!!! RT @80sbaby...</td>\n",
       "      <td>Dawg  You ever fuck a bitch and she start to...</td>\n",
       "    </tr>\n",
       "    <tr>\n",
       "      <th>3</th>\n",
       "      <td>1</td>\n",
       "      <td>!!!!!!!!! RT @C_G_Anderson: @viva_based she lo...</td>\n",
       "      <td>she look like a tranny</td>\n",
       "    </tr>\n",
       "    <tr>\n",
       "      <th>4</th>\n",
       "      <td>1</td>\n",
       "      <td>!!!!!!!!!!!!! RT @ShenikaRoberts: The shit you...</td>\n",
       "      <td>The shit you hear about me might be true or ...</td>\n",
       "    </tr>\n",
       "    <tr>\n",
       "      <th>...</th>\n",
       "      <td>...</td>\n",
       "      <td>...</td>\n",
       "      <td>...</td>\n",
       "    </tr>\n",
       "    <tr>\n",
       "      <th>24778</th>\n",
       "      <td>1</td>\n",
       "      <td>you's a muthaf***in lie &amp;#8220;@LifeAsKing: @2...</td>\n",
       "      <td>yous a muthafin lie 8220   right His TL is tra...</td>\n",
       "    </tr>\n",
       "    <tr>\n",
       "      <th>24779</th>\n",
       "      <td>2</td>\n",
       "      <td>you've gone and broke the wrong heart baby, an...</td>\n",
       "      <td>youve gone and broke the wrong heart baby and ...</td>\n",
       "    </tr>\n",
       "    <tr>\n",
       "      <th>24780</th>\n",
       "      <td>1</td>\n",
       "      <td>young buck wanna eat!!.. dat nigguh like I ain...</td>\n",
       "      <td>young buck wanna eat dat nigguh like I aint fu...</td>\n",
       "    </tr>\n",
       "    <tr>\n",
       "      <th>24781</th>\n",
       "      <td>1</td>\n",
       "      <td>youu got wild bitches tellin you lies</td>\n",
       "      <td>youu got wild bitches tellin you lies</td>\n",
       "    </tr>\n",
       "    <tr>\n",
       "      <th>24782</th>\n",
       "      <td>2</td>\n",
       "      <td>~~Ruffled | Ntac Eileen Dahlia - Beautiful col...</td>\n",
       "      <td>Ruffled  Ntac Eileen Dahlia  Beautiful color c...</td>\n",
       "    </tr>\n",
       "  </tbody>\n",
       "</table>\n",
       "<p>24783 rows × 3 columns</p>\n",
       "</div>"
      ],
      "text/plain": [
       "       label                                              tweet  \\\n",
       "0          2  !!! RT @mayasolovely: As a woman you shouldn't...   \n",
       "1          1  !!!!! RT @mleew17: boy dats cold...tyga dwn ba...   \n",
       "2          1  !!!!!!! RT @UrKindOfBrand Dawg!!!! RT @80sbaby...   \n",
       "3          1  !!!!!!!!! RT @C_G_Anderson: @viva_based she lo...   \n",
       "4          1  !!!!!!!!!!!!! RT @ShenikaRoberts: The shit you...   \n",
       "...      ...                                                ...   \n",
       "24778      1  you's a muthaf***in lie &#8220;@LifeAsKing: @2...   \n",
       "24779      2  you've gone and broke the wrong heart baby, an...   \n",
       "24780      1  young buck wanna eat!!.. dat nigguh like I ain...   \n",
       "24781      1              youu got wild bitches tellin you lies   \n",
       "24782      2  ~~Ruffled | Ntac Eileen Dahlia - Beautiful col...   \n",
       "\n",
       "                                         processed_tweet  \n",
       "0        As a woman you shouldnt complain about clean...  \n",
       "1        boy dats coldtyga dwn bad for cuffin dat hoe...  \n",
       "2        Dawg  You ever fuck a bitch and she start to...  \n",
       "3                                 she look like a tranny  \n",
       "4        The shit you hear about me might be true or ...  \n",
       "...                                                  ...  \n",
       "24778  yous a muthafin lie 8220   right His TL is tra...  \n",
       "24779  youve gone and broke the wrong heart baby and ...  \n",
       "24780  young buck wanna eat dat nigguh like I aint fu...  \n",
       "24781              youu got wild bitches tellin you lies  \n",
       "24782  Ruffled  Ntac Eileen Dahlia  Beautiful color c...  \n",
       "\n",
       "[24783 rows x 3 columns]"
      ]
     },
     "execution_count": 6,
     "metadata": {},
     "output_type": "execute_result"
    }
   ],
   "source": [
    "data[\"processed_tweet\"] = data[\"tweet\"].apply(clean_tweets)\n",
    "\n",
    "data"
   ]
  },
  {
   "cell_type": "code",
   "execution_count": 7,
   "id": "bf60d109-3a79-4017-a9f4-2f251b07384b",
   "metadata": {},
   "outputs": [],
   "source": [
    "data = shuffle(data,random_state =1)"
   ]
  },
  {
   "cell_type": "code",
   "execution_count": 8,
   "id": "06cafc7c-ebc6-4b47-b9a5-f6c7375afa38",
   "metadata": {},
   "outputs": [],
   "source": [
    "train, test = train_test_split(data, test_size=0.2, random_state = 1)"
   ]
  },
  {
   "cell_type": "code",
   "execution_count": 9,
   "id": "ae11109b-089c-4f54-8c85-d195db0e62b2",
   "metadata": {},
   "outputs": [
    {
     "name": "stdout",
     "output_type": "stream",
     "text": [
      "Labels for testing dataset:\n",
      " 1    3891\n",
      "2     785\n",
      "0     281\n",
      "Name: label, dtype: int64 \n",
      "\n",
      "Labels for training dataset:\n",
      " 1    15299\n",
      "2     3378\n",
      "0     1149\n",
      "Name: label, dtype: int64\n"
     ]
    }
   ],
   "source": [
    "print(\"Labels for testing dataset:\\n\",test.label.value_counts(),\"\\n\")\n",
    "print(\"Labels for training dataset:\\n\",train.label.value_counts())"
   ]
  },
  {
   "cell_type": "markdown",
   "id": "62b475b0-1637-4056-aabe-64c3c3e369e4",
   "metadata": {},
   "source": [
    "Now we use the training set to do some simple balancing techniques.\n",
    "We will perform an undersampling of the class 1 (offensive) and at the same time we will oversample the other classes 0 (hate) and 2 (normal)."
   ]
  },
  {
   "cell_type": "code",
   "execution_count": 10,
   "id": "6442f008-101d-4f0b-b606-d811691c48ff",
   "metadata": {},
   "outputs": [],
   "source": [
    "#first we split the data according to the class. \n",
    "hate = train[train.label==0]\n",
    "offensive = train[train.label==1]\n",
    "normal = train[train.label==2]"
   ]
  },
  {
   "cell_type": "markdown",
   "id": "82235b7b-ac9f-44cb-9ab3-87d77cc1f0ff",
   "metadata": {},
   "source": [
    "The length of the new training set will be set by increasing the normal observations in the same amount as decreasing the offensive observations.  "
   ]
  },
  {
   "cell_type": "code",
   "execution_count": 11,
   "id": "16ed3257-e54d-4f94-84ac-5536158ff087",
   "metadata": {},
   "outputs": [
    {
     "data": {
      "text/plain": [
       "9338"
      ]
     },
     "execution_count": 11,
     "metadata": {},
     "output_type": "execute_result"
    }
   ],
   "source": [
    "sample_size = int(len(normal) + ((len(offensive)-len(normal))/2))\n",
    "sample_size"
   ]
  },
  {
   "cell_type": "markdown",
   "id": "64aa6ff4-b24a-41e2-bb1a-0debda3b968e",
   "metadata": {},
   "source": [
    "Now we go ahead and balance the data. "
   ]
  },
  {
   "cell_type": "code",
   "execution_count": 12,
   "id": "4f469aa9-b6ff-409b-93a1-f07e842eb782",
   "metadata": {},
   "outputs": [],
   "source": [
    "normal_overSampled = resample(normal, #we will resample the violent tweets\n",
    "                              replace = True, #we set replacement to False, since we need to resample several times the same observations\n",
    "                               n_samples = sample_size, #we match both samples\n",
    "                               random_state = 1) # we keep reproducible results\n",
    "\n",
    "hate_overSampled = resample(hate, \n",
    "                              replace = True, \n",
    "                               n_samples = sample_size,\n",
    "                               random_state = 1) \n",
    "\n",
    "offensive_underSampled = resample(offensive, \n",
    "                              replace = False, \n",
    "                               n_samples = sample_size, \n",
    "                               random_state = 1) "
   ]
  },
  {
   "cell_type": "code",
   "execution_count": 13,
   "id": "8348152e-41fa-4867-85c7-0555f5492c39",
   "metadata": {},
   "outputs": [
    {
     "name": "stdout",
     "output_type": "stream",
     "text": [
      "New labels for training dataset:\n",
      " 2    9338\n",
      "0    9338\n",
      "1    9338\n",
      "Name: label, dtype: int64\n"
     ]
    }
   ],
   "source": [
    "train = pd.concat([normal_overSampled, hate_overSampled, offensive_underSampled])\n",
    "print(\"New labels for training dataset:\\n\",train.label.value_counts())"
   ]
  },
  {
   "cell_type": "markdown",
   "id": "30e10370-7785-411e-bbdb-de10a663a440",
   "metadata": {},
   "source": [
    "Now we prepare the dataframe for a vectorizer transformation. "
   ]
  },
  {
   "cell_type": "code",
   "execution_count": 14,
   "id": "ca5e3ab1-625c-4d24-bf1c-96bc778203f1",
   "metadata": {},
   "outputs": [],
   "source": [
    "train_x = list(train[\"processed_tweet\"])\n",
    "test_x = list(test[\"processed_tweet\"])\n",
    "\n",
    "train_y = list(train[\"label\"])\n",
    "test_y = list(test[\"label\"])"
   ]
  },
  {
   "cell_type": "markdown",
   "id": "e0a2afba-99db-4de8-b9af-09b135dd6a96",
   "metadata": {},
   "source": [
    "Now we use a vectorizer creating a dictionary with 2000 terms."
   ]
  },
  {
   "cell_type": "code",
   "execution_count": 15,
   "id": "0d302f7f-4006-4ebe-b495-9f38491a7d5f",
   "metadata": {},
   "outputs": [],
   "source": [
    "vocabulary_size = 2000\n",
    "vectorizer = CountVectorizer(max_features=vocabulary_size)\n",
    "features_train = vectorizer.fit_transform(train_x).toarray()\n",
    "features_test = vectorizer.transform(test_x).toarray()\n",
    "vocabulary = vectorizer.vocabulary_"
   ]
  },
  {
   "cell_type": "code",
   "execution_count": 16,
   "id": "9430fb1e-fe84-4d9d-80d1-59d42d4be2d0",
   "metadata": {},
   "outputs": [
    {
     "data": {
      "text/plain": [
       "['data/vectorizer.joblib']"
      ]
     },
     "execution_count": 16,
     "metadata": {},
     "output_type": "execute_result"
    }
   ],
   "source": [
    "dump(vectorizer,\"data/vectorizer.joblib\")"
   ]
  },
  {
   "cell_type": "markdown",
   "id": "10277a88-84b8-455f-a57f-ea6caa26711d",
   "metadata": {},
   "source": [
    "The dictionary is saved to be consulted later for new tweets. "
   ]
  },
  {
   "cell_type": "code",
   "execution_count": 17,
   "id": "ebeb6f91-7b2a-4abf-abed-b1f033fa0c71",
   "metadata": {},
   "outputs": [],
   "source": [
    "for i in vocabulary:\n",
    "    vocabulary[i] = vocabulary[i].item()\n",
    "    \n",
    "with open(f\"data/vocabulary.json\", \"w\") as file:\n",
    "    json.dump(vocabulary,file)"
   ]
  },
  {
   "cell_type": "markdown",
   "id": "f6d75c81-2166-43f2-982c-3de79fb30f9f",
   "metadata": {},
   "source": [
    "The features dataframes are replaced by the transformed vectorizer. \n"
   ]
  },
  {
   "cell_type": "code",
   "execution_count": 18,
   "id": "9e15f871-38cf-49c0-9c60-0b3b020fb753",
   "metadata": {},
   "outputs": [],
   "source": [
    "train_x = features_train\n",
    "test_x = features_test"
   ]
  },
  {
   "cell_type": "markdown",
   "id": "1e2f998f-6071-4e13-aa7c-5b8ae4f9a8de",
   "metadata": {},
   "source": [
    "Two models are to be estimated with the training data. We will evaluate which one offers the best performance and will be used in the deployment of the app. "
   ]
  },
  {
   "cell_type": "markdown",
   "id": "2b61ffe2-e46d-4263-8f67-5ddb0e6c305c",
   "metadata": {},
   "source": [
    "# SVM model"
   ]
  },
  {
   "cell_type": "code",
   "execution_count": 18,
   "id": "a8050b6b-a51a-4712-b47c-0c2438f6d44d",
   "metadata": {},
   "outputs": [],
   "source": [
    "from sklearn.svm import SVC\n",
    "from sklearn.model_selection import GridSearchCV"
   ]
  },
  {
   "cell_type": "code",
   "execution_count": 19,
   "id": "f64dab2a-edda-433f-a412-81b23f1a8389",
   "metadata": {},
   "outputs": [],
   "source": [
    "svm_clf = SVC(kernel='rbf', gamma=0.1, C=1.0)"
   ]
  },
  {
   "cell_type": "code",
   "execution_count": 23,
   "id": "220cc753-3b5e-42a4-a7f4-e1794372993b",
   "metadata": {},
   "outputs": [
    {
     "data": {
      "text/plain": [
       "SVC(gamma=0.1)"
      ]
     },
     "execution_count": 23,
     "metadata": {},
     "output_type": "execute_result"
    }
   ],
   "source": [
    "svm_clf.fit(train_x, train_y)"
   ]
  },
  {
   "cell_type": "code",
   "execution_count": 25,
   "id": "c6b9e9a1-311e-4a47-bce6-c8376bf6fce9",
   "metadata": {},
   "outputs": [
    {
     "data": {
      "text/plain": [
       "['data/svm_model.joblib']"
      ]
     },
     "execution_count": 25,
     "metadata": {},
     "output_type": "execute_result"
    }
   ],
   "source": [
    "dump(svm_clf, 'data/svm_model.joblib')"
   ]
  },
  {
   "cell_type": "code",
   "execution_count": 19,
   "id": "2a16306b-df03-46ac-b934-e5d2085786db",
   "metadata": {},
   "outputs": [],
   "source": [
    "svm_clf = load('data/svm_model.joblib')"
   ]
  },
  {
   "cell_type": "code",
   "execution_count": 20,
   "id": "ed089391-d3ab-46c4-8c4c-7cc2b936f798",
   "metadata": {
    "tags": []
   },
   "outputs": [
    {
     "name": "stdout",
     "output_type": "stream",
     "text": [
      "Train Result:\n",
      "================================================\n",
      "Accuracy Score: 97.78%\n",
      "_______________________________________________\n",
      "CLASSIFICATION REPORT:\n",
      "                     0            1            2  accuracy     macro avg  \\\n",
      "precision     0.977389     0.986922     0.969596  0.977797      0.977969   \n",
      "recall        0.985971     0.953630     0.993789  0.977797      0.977797   \n",
      "f1-score      0.981661     0.969991     0.981543  0.977797      0.977732   \n",
      "support    9338.000000  9338.000000  9338.000000  0.977797  28014.000000   \n",
      "\n",
      "           weighted avg  \n",
      "precision      0.977969  \n",
      "recall         0.977797  \n",
      "f1-score       0.977732  \n",
      "support    28014.000000  \n",
      "_______________________________________________\n",
      "Confusion Matrix: \n",
      " [[9207   75   56]\n",
      " [ 198 8905  235]\n",
      " [  15   43 9280]]\n",
      "\n",
      "Test Result:\n",
      "================================================\n",
      "Accuracy Score: 87.05%\n",
      "_______________________________________________\n",
      "CLASSIFICATION REPORT:\n",
      "                    0            1           2  accuracy    macro avg  \\\n",
      "precision    0.363014     0.945931    0.734990  0.870486     0.681312   \n",
      "recall       0.377224     0.899255    0.904459  0.870486     0.726979   \n",
      "f1-score     0.369983     0.922003    0.810965  0.870486     0.700983   \n",
      "support    281.000000  3891.000000  785.000000  0.870486  4957.000000   \n",
      "\n",
      "           weighted avg  \n",
      "precision      0.879482  \n",
      "recall         0.870486  \n",
      "f1-score       0.873126  \n",
      "support     4957.000000  \n",
      "_______________________________________________\n",
      "Confusion Matrix: \n",
      " [[ 106  136   39]\n",
      " [ 175 3499  217]\n",
      " [  11   64  710]]\n",
      "\n"
     ]
    }
   ],
   "source": [
    "print_score(svm_clf, train_x, train_y, test_x, test_y, train=True)\n",
    "print_score(svm_clf, train_x, train_y, test_x, test_y, train=False)"
   ]
  },
  {
   "cell_type": "markdown",
   "id": "aa276968-1d1f-47c0-9945-122f6f1209bc",
   "metadata": {},
   "source": [
    "# XGBoost Model"
   ]
  },
  {
   "cell_type": "code",
   "execution_count": null,
   "id": "b2b59922-79c0-4259-8817-2afcba86083a",
   "metadata": {},
   "outputs": [],
   "source": [
    "from xgboost import XGBClassifier\n",
    "\n",
    "xgb_clf = XGBClassifier()"
   ]
  },
  {
   "cell_type": "code",
   "execution_count": 31,
   "id": "fab5a286-4f3c-49ef-ab81-bd211692a177",
   "metadata": {},
   "outputs": [
    {
     "data": {
      "text/plain": [
       "XGBClassifier(base_score=0.5, booster='gbtree', callbacks=None,\n",
       "              colsample_bylevel=1, colsample_bynode=1, colsample_bytree=1,\n",
       "              early_stopping_rounds=None, enable_categorical=False,\n",
       "              eval_metric=None, feature_types=None, gamma=0, gpu_id=-1,\n",
       "              grow_policy='depthwise', importance_type=None,\n",
       "              interaction_constraints='', learning_rate=0.300000012,\n",
       "              max_bin=256, max_cat_threshold=64, max_cat_to_onehot=4,\n",
       "              max_delta_step=0, max_depth=6, max_leaves=0, min_child_weight=1,\n",
       "              missing=nan, monotone_constraints='()', n_estimators=100,\n",
       "              n_jobs=0, num_parallel_tree=1, objective='multi:softprob',\n",
       "              predictor='auto', ...)"
      ]
     },
     "execution_count": 31,
     "metadata": {},
     "output_type": "execute_result"
    }
   ],
   "source": [
    "xgb_clf.fit(train_x, train_y)"
   ]
  },
  {
   "cell_type": "code",
   "execution_count": 32,
   "id": "216ea348-934b-4f10-8f2e-e63643e43403",
   "metadata": {},
   "outputs": [
    {
     "data": {
      "text/plain": [
       "['data/xgb_model.joblib']"
      ]
     },
     "execution_count": 32,
     "metadata": {},
     "output_type": "execute_result"
    }
   ],
   "source": [
    "dump(xgb_clf,\"data/xgb_model.joblib\")"
   ]
  },
  {
   "cell_type": "code",
   "execution_count": 20,
   "id": "1f09509e-2b36-4768-98bd-129dd36d4ecb",
   "metadata": {},
   "outputs": [],
   "source": [
    "xgb_clf = load('data/xgb_model.joblib')"
   ]
  },
  {
   "cell_type": "code",
   "execution_count": 21,
   "id": "52f5a12e-0210-4546-8c6f-50aade00caa2",
   "metadata": {},
   "outputs": [
    {
     "name": "stdout",
     "output_type": "stream",
     "text": [
      "Train Result:\n",
      "================================================\n",
      "Accuracy Score: 90.99%\n",
      "_______________________________________________\n",
      "CLASSIFICATION REPORT:\n",
      "                     0            1            2  accuracy     macro avg  \\\n",
      "precision     0.915693     0.925115     0.892004  0.909866      0.910938   \n",
      "recall        0.881666     0.859927     0.988006  0.909866      0.909866   \n",
      "f1-score      0.898358     0.891331     0.937554  0.909866      0.909081   \n",
      "support    9338.000000  9338.000000  9338.000000  0.909866  28014.000000   \n",
      "\n",
      "           weighted avg  \n",
      "precision      0.910938  \n",
      "recall         0.909866  \n",
      "f1-score       0.909081  \n",
      "support    28014.000000  \n",
      "_______________________________________________\n",
      "Confusion Matrix: \n",
      " [[8233  571  534]\n",
      " [ 725 8030  583]\n",
      " [  33   79 9226]]\n",
      "\n",
      "Test Result:\n",
      "================================================\n",
      "Accuracy Score: 83.80%\n",
      "_______________________________________________\n",
      "CLASSIFICATION REPORT:\n",
      "                    0            1           2  accuracy    macro avg  \\\n",
      "precision    0.278660     0.971548    0.715509  0.838007     0.655239   \n",
      "recall       0.562278     0.833719    0.957962  0.838007     0.784653   \n",
      "f1-score     0.372642     0.897372    0.819172  0.838007     0.696395   \n",
      "support    281.000000  3891.000000  785.000000  0.838007  4957.000000   \n",
      "\n",
      "           weighted avg  \n",
      "precision      0.891723  \n",
      "recall         0.838007  \n",
      "f1-score       0.855242  \n",
      "support     4957.000000  \n",
      "_______________________________________________\n",
      "Confusion Matrix: \n",
      " [[ 158   83   40]\n",
      " [ 388 3244  259]\n",
      " [  21   12  752]]\n",
      "\n"
     ]
    }
   ],
   "source": [
    "print_score(xgb_clf, train_x, train_y, test_x, test_y, train=True)\n",
    "print_score(xgb_clf, train_x, train_y, test_x, test_y, train=False)"
   ]
  },
  {
   "cell_type": "markdown",
   "id": "f5e023e1-06de-4649-b495-dffcecafd9ed",
   "metadata": {},
   "source": [
    "We see that the XGBoost model shows a higher recall for the label 0, meaning it is more effective to find the hate speech in tweets. For this reason we use the XGBoost model in the app. "
   ]
  }
 ],
 "metadata": {
  "kernelspec": {
   "display_name": "Python 3",
   "language": "python",
   "name": "python3"
  },
  "language_info": {
   "codemirror_mode": {
    "name": "ipython",
    "version": 3
   },
   "file_extension": ".py",
   "mimetype": "text/x-python",
   "name": "python",
   "nbconvert_exporter": "python",
   "pygments_lexer": "ipython3",
   "version": "3.8.8"
  }
 },
 "nbformat": 4,
 "nbformat_minor": 5
}
